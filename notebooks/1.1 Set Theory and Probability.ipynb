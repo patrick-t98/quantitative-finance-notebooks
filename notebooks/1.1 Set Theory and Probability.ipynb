{
 "cells": [
  {
   "cell_type": "markdown",
   "metadata": {},
   "source": [
    "## 0. Introduction\n",
    "\n",
    "The purpose of this notebook is to provide an introduction to set theory and probability. We will go through [a great video on set theory](https://www.youtube.com/watch?v=5ZhNmKb-dqk) (Wood, 2021) and chapter 1 from *All of Statistics* (Wasserman, 2004)."
   ]
  },
  {
   "cell_type": "markdown",
   "metadata": {},
   "source": [
    "## 1. Set Theory\n",
    "\n",
    "### 1.1 The Basics\n",
    "\n",
    "A **set** is a collection of objects (elements). For example, a set containing the numbers 1, 2, 3 would be written as \\{1 ,2, 3\\}, which we can name as \n",
    "\n",
    "$$ A = \\{1, 2, 3\\}. $$\n",
    "\n",
    "To express symbolically that an element belongs to a set we use $\\in$, and, to express that it does not belong we use $\\notin$. For example, if $A = \\{1, 2, 3\\}$, then $1 \\in A, 2 \\in A$, but $4 \\notin A$. \n",
    "\n",
    "In most cases, we do not write out all the elements in a set but will write a shorthand description using **set builder notation**. For example, the set of prime numbers could be written as\n",
    "\n",
    "$$ P = \\{p \\mid p \\text{ is a prime} \\}, $$\n",
    "\n",
    "or \n",
    "\n",
    "$$ P = \\{p \\colon p \\text{ is a prime} \\}. $$\n",
    "\n",
    "Here $p$ is a variable which must satisfy some criterion we call the **predicate**, since its belonging to the set is predicated on some criterion. In this case, the predicate is being a prime number, so we can read the above equation as \"$p$ such that $p$ is a prime\". \n",
    "\n",
    "**Two sets are equal** if they both contain the **same elements**. For example, if $a \\in A$, $a \\in B$ and for all $b \\in B, b \\in A$, then $A = B$. This definition means that the order of the elements does not matter, we only need to show that they share the same elements. It also does not matter if elements are repeated, as long as every element in one set can be shown to be in the other we still have equality. Generally, we just write the elements in a way that's easiest to read, which usually means without repetitions and in some sensible order. \n",
    "\n",
    "The **size** or **cardinality** of a set is the number of elements it contains. For example, the cardinality of $A$ is $|A| = 3 $. If a set has an infinite set of elements, like the $P = \\{p \\colon p \\text{ is a prime} \\}$, its perfectly fine to write $|P| = \\infty$."
   ]
  },
  {
   "cell_type": "markdown",
   "metadata": {},
   "source": [
    "### 1.2 Subsets\n",
    "\n",
    "A set is a **subset** of another if all of its elements are also elements of another set. Consider $A = \\{ 2, 4, 6 \\}$ and $B = \\{ 1, 2, 3, 4, 5, 6 \\}$. We write $A \\subseteq B$ to denote that \"$A$ is a subset of $B$\". Remember: **subsets are always sets themselves**. So in our example, 4 is an element of $B$, but it is not a subset of $B$. \n",
    "\n",
    "Another important property is that all sets are subsets of themselves. We can take this further to give a different definition of **set equality**. If $A \\subseteq B$ and $B \\subseteq A$ then $A = B$. An example to go along with the image below would be if $A = \\{ 2, 4, 6 \\}$ and $B = \\{ 6, 4, 2 \\}$\n",
    "\n",
    "<center><img src=\"../figures/subset.png\"/></center>\n",
    "\n",
    "If $A \\subseteq B$ but $A \\neq B$, then $A$ is a **proper subset** of $B$. An example to go with the image below would be $A = \\{ 2, 4, 6 \\}$ and $B = \\{ 1, 2, 3, 4, 5, 6 \\}$. \n",
    "\n",
    "<center><img src=\"../figures/proper_subset.png\"/></center>\n",
    "\n",
    "Sometimes, a proper subset is denoted using $A \\subset B$, but sometimes $\\subset$ is used for subsets that might be equal. More explicit notation for a proper subset is $A \\subsetneq B$. \n",
    "\n",
    "An intuitive property of subsets is that if $A \\subseteq B$ and $B \\subseteq C$ then $A \\subseteq C$. "
   ]
  },
  {
   "cell_type": "markdown",
   "metadata": {},
   "source": [
    "### 1.3 The Empty Set\n",
    "\n",
    "The empty set $\\emptyset$ is a set which contains no elements. It is a special set that has its own symbol and properties. \n",
    "\n",
    "Firstly, **$\\emptyset$ is a subset of any set**. \n",
    "\n",
    "* Let $A$ be a set. Since $\\emptyset$ has no elements, all the elements in $\\emptyset$ must also be in $A$, therefore $\\emptyset \\subseteq A$. \n",
    "\n",
    "Secondly, **$\\emptyset$ is unique**. \n",
    "\n",
    "* Let $\\emptyset_1$ and $\\emptyset_2$ be two empty sets. Since the empty set is a subset of all sets $\\emptyset_1 \\subseteq \\emptyset_2$ and $\\emptyset_2 \\subseteq \\emptyset_1$, therefore $\\emptyset_1 = \\emptyset_2$"
   ]
  },
  {
   "cell_type": "markdown",
   "metadata": {},
   "source": [
    "### 1.4 Union and Intersection\n",
    "\n",
    "The **union** and **intersection** are two ways of combining the elements in two sets into a new set. \n",
    "\n",
    "The **union** of two sets $A$ and $B$ is the set containing all the elements in $A$ as well as all the elements in $B$. We write as:\n",
    "\n",
    "$$ A \\cup B = \\{ x \\colon x \\in A \\textbf{ or } x \\in B\\}. $$\n",
    "\n",
    "Using a venn diagram:\n",
    "\n",
    "<center><img src=\"../figures/union.png\"/></center>\n",
    "\n",
    "The word **or** is the most important bit here. \n",
    "\n",
    "The **intersection** of sets $A$ and $B$ is the set containing elements that are in both $A$ and $B$. We write as:\n",
    "\n",
    "$$ A \\cap B = \\{ x \\colon x \\in A \\textbf{ and } x \\in B \\}. $$\n",
    "\n",
    "Using a venn diagram:\n",
    "\n",
    "<center><img src=\"../figures/intersection.png\"/></center>\n",
    "\n",
    "The word **and** is the most important bit here."
   ]
  },
  {
   "cell_type": "markdown",
   "metadata": {},
   "source": [
    "Let $A = \\{ 0, 1 \\}$ and $B = \\{ 1, 2, 3 \\}$. \n",
    "\n",
    "* $A \\cup B = \\{ 0, 1, 2, 3 \\}$\n",
    "* $A \\cap B = \\{ 1 \\}$"
   ]
  },
  {
   "cell_type": "markdown",
   "metadata": {},
   "source": [
    "**Properties of the Union**\n",
    "\n",
    "1. $A \\cup \\emptyset = A$\n",
    "2. $A \\cup A = A$\n",
    "3. $A \\subseteq B$, then  $A \\cup B = B$\n",
    "4. $A \\cup B = B \\cup A$\n",
    "5. $A \\cup (B \\cup C) = (A \\cup B) \\cup C$\n",
    "\n",
    "**Properties of the Intersection**\n",
    "\n",
    "1. $A \\cap \\emptyset = \\emptyset$\n",
    "2. $A \\cap A = A$\n",
    "3. if $A \\subseteq B$, then $A \\cap B = A$\n",
    "4. $A \\cap B = B \\cap A$\n",
    "5. $A \\cap (B \\cap C) = (A \\cap B) \\cap C$"
   ]
  },
  {
   "cell_type": "markdown",
   "metadata": {},
   "source": [
    "There's a useful identity we can extract using the cardinality of the union and the intersection of two sets. Consider $A = \\{ 1, 2, 3\\}$ and $B = \\{ 3, 4 \\}$. We can write that $|A| = 3$ and $|B| = 2$. The union of $A$ and $B$ would contain 4 elements, $|A \\cup B| = 4$, and, the intersection of $A$ and $B$ would contain 1 element, $|A \\cap B| = 1$. Thus, \n",
    "\n",
    "$$ |A| + |B| = |A \\cup B| + |A \\cap B|, $$\n",
    "\n",
    "which can be rewritten as \n",
    "\n",
    "$$ |A \\cup B| = |A| + |B| - |A \\cap B|. $$\n",
    "\n",
    "For three sets $A$, $B$ and $C$, the **distributive property** can be shown by\n",
    "\n",
    "$$ A \\cup (B \\cap C) = (A \\cup B) \\cap (A \\cup C) $$\n",
    "\n",
    "$$ A \\cap (B \\cup C) = (A \\cap B) \\cup (A \\cap C) $$\n",
    "\n",
    "$$ A \\times (B + C) = (A \\times B) + (A \\times C). $$"
   ]
  },
  {
   "cell_type": "markdown",
   "metadata": {},
   "source": [
    "### 1.5 The Complement\n",
    "\n",
    "The **set-theoretic difference** of two sets $A$ and $B$ is the set of all elements in $A$ that are not in $B$. This would usually be denoted as\n",
    "\n",
    "$$ A \\setminus B = \\{ x \\in A \\colon x \\notin B \\}. $$\n",
    "\n",
    "This can be thought of as \"subtracting $B$ from $A$\". \n",
    "\n",
    "<center><img src=\"../figures/set_theoretic_diff.png\"/></center>\n",
    "\n",
    "For example, if $A = \\{ 1, 2, 3, 4, 5 \\}$ and $B = \\{ 2, 4, 6, 8 \\}$ then $A \\setminus B = \\{ 1, 3, 5 \\}$ and $B \\setminus A = \\{ 6, 8 \\}$. \n",
    "\n",
    "If $B \\subseteq A$, the set-theoretic difference of $A$ and $B$ is called the **complement** of $B$ with respect to $A$, usually denoted $B^c$. \n",
    "\n",
    "<center><img src=\"../figures/complement.png\"/></center>\n",
    "\n",
    "Why is this important? In the example above, think of $B^c$ as telling us about the things outside of $B$, or in other words, it's elements not in the set we are interested in but not totally irrelevant. This leads nicely onto the universal set.\n",
    "\n",
    "The **universal set** is the set of all elements that are relevant for some given topic of interest. \n",
    "\n",
    "<center><img src=\"../figures/universal_set.png\"/></center>\n",
    "\n",
    "The **complement negates the predicate**. For example, if we have \n",
    "\n",
    "$$ A = \\{ x \\in B \\colon P \\}, $$\n",
    "\n",
    "then \n",
    "\n",
    "$$ A^c = \\{ x \\in B \\colon \\neg P \\}. $$\n",
    "\n",
    "Note: $\\neg P $ denotes \"not true\".  "
   ]
  },
  {
   "cell_type": "markdown",
   "metadata": {},
   "source": [
    "**Properties of Complements**\n",
    "\n",
    "Let $A$ and $B$ be subsets of the universal set $U$. \n",
    "\n",
    "1. $\\emptyset^c = U$ \n",
    "2. $U^c = \\emptyset$\n",
    "3. $(A^c)^c = A$\n",
    "4. If $A \\subseteq B$, then $B^c \\subseteq A^c$"
   ]
  },
  {
   "cell_type": "markdown",
   "metadata": {},
   "source": [
    "### 1.6 De Morgan's Laws\n",
    "\n",
    "If $A$ and $B$ are subsets of the universal set $U$ then\n",
    "\n",
    "$$ (A \\cup B)^c = A^c \\cap B^c $$\n",
    "\n",
    "$$ (A \\cap B)^c = A^c \\cup B^c. $$\n",
    "\n",
    "Given any set-theoretic identity involving $\\cup$ and $\\cap$, if $\\cup$ and $\\cap$ are interchanged throughout, then the result will be another valid identity. "
   ]
  },
  {
   "cell_type": "markdown",
   "metadata": {},
   "source": [
    "### 1.7 Sets of Sets, Power Sets, Indexed Families\n",
    "\n",
    "The elements of a set may be sets themselves. For example, \n",
    " \n",
    "$$ A = \\{ \\{ 0 \\}, \\{ 0, 1 \\}, \\{ 0, 1, 2 \\} \\}. $$\n",
    "\n",
    "We have to carefully think about a case like this. Here we can correctly state the following:\n",
    "\n",
    "* $\\{ 0 \\} \\in A$\n",
    "* $0 \\notin A$\n",
    "* $\\{ 0 \\} \\nsubseteq = A$\n",
    "* $\\{  \\{ 0 \\} \\} \\subseteq A$\n",
    "\n",
    "The **power set** contains all subsets of a given set. Let $A$ be a set. \n",
    "\n",
    "$$ P(A) = \\{ X \\colon | X \\subseteq A \\}. $$\n",
    "\n",
    "For $A = \\{ 0, 1 \\}$, \n",
    "\n",
    "$$ P(A) = \\{ \\emptyset, \\{ 0, 1 \\}, \\{ 0 \\}, \\{ 1 \\} \\}. $$\n",
    "\n",
    "**Indexed families of sets** are where each element is indexed by a number and usually written as a subscript. \n",
    "\n",
    "$$ A = \\{ A_i \\colon i \\in I \\}. $$\n",
    "\n",
    "For example, $A = \\{ A_i \\colon i \\in \\{ 1, 2, 3 \\} \\} \\leftrightarrow A = \\{ A_1, A_2, A_3 \\}$"
   ]
  },
  {
   "cell_type": "markdown",
   "metadata": {},
   "source": [
    "## 2. Probability\n",
    "\n",
    "### 2.1 Sample Spaces and Events\n",
    "\n",
    "The **sample space** $\\Omega$ is the set of possible outcomes of an experiment. Points $\\omega$ in $\\Omega$ are called **sample outcomes**, **realizations**, or **elements**. Subsets of $\\Omega$ are called **Events**.\n",
    "\n",
    "For example, if we toss a coin twice then $\\Omega = \\{HH, HT, TH, TT\\}$. The event that the first toss is heads is $A = \\{HH, HT\\}$. If we toss a coin forever, then the sample space is the infinite set \n",
    "\n",
    "$$ \\Omega = \\left\\{ \\omega = (\\omega_1, \\omega_2, \\omega_3, \\ldots,) \\colon \\omega_i \\in \\{H, T\\} \\right\\}. $$\n",
    "\n",
    "We say that $A_1, A_2, \\ldots$ are **disjoint** or are **mutually exclusive** if $A_i \\cap A_j = \\emptyset$ whenever $i \\neq j$. For example, $A_1 = [0, 1)$, $A_2 = [1, 2)$, $A_3 = [2, 3), \\ldots$ are disjoint. A **partition** of $\\Omega$ is a sequence of disjoint sets $A_1, A_2, \\ldots$ such that $\\bigcup_{i=1}^\\infty A_i = \\Omega$. Given an event $A$, define the **indicator function** of $A$ by\n",
    "\n",
    "$$\n",
    "I_A(\\omega) = I(\\omega \\in A) = \\begin{cases} \n",
    "1 & \\text{if } \\omega \\in A \\\\\n",
    "0 & \\text{if } \\omega \\notin A. \n",
    "\\end{cases}\n",
    "$$"
   ]
  },
  {
   "cell_type": "markdown",
   "metadata": {},
   "source": [
    "A function $\\mathbb{P}$ that assigns a real number $\\mathbb{P}(A)$ to each event $A$ is a probability distribution or a probability measure if it satisfies the following three axioms:\n",
    "\n",
    "**Axiom 1**: $\\mathbb{P}(A) \\geq 0$ for every event $A$.\n",
    "\n",
    "**Axiom 2**: $\\mathbb{P}(\\Omega) = 1$.\n",
    "\n",
    "**Axiom 3**: If $A_1, A_2, \\ldots$ are disjoint, then\n",
    "\n",
    "$$ \\mathbb{P}\\left(\\bigcup_{i=1}^{\\infty} A_i\\right) = \\sum_{i=1}^{\\infty} \\mathbb{P}(A_i). $$\n",
    "\n",
    "For any events $A$ and $B$,\n",
    "\n",
    "$$ \\mathbb{P}(A \\cup B) = \\mathbb{P}(A) + \\mathbb{P}(B) - \\mathbb{P}(A \\cap B). $$\n"
   ]
  },
  {
   "cell_type": "markdown",
   "metadata": {},
   "source": [
    "### 2.2 Probability on Finite Sample Spaces\n",
    "\n",
    "Suppose that the sample space $\\Omega = \\{\\omega_1, \\ldots, \\omega_n\\}$ is finite. For example, if we toss a die twice, then $\\Omega$ has 36 elements: $\\Omega = \\{(i, j); i, j \\in \\{1, \\ldots, 6\\}\\}$. If each outcome is equally likely, then $\\mathbb{P}(A) = \\frac{|A|}{36}$ where $|A|$ denotes the number of elements in $A$. The probability that the sum of the dice is $11$ is $2 / 36$ since there are two outcomes that correspond to this event.\n",
    "\n",
    "If $\\Omega$ is finite and if each outcome is equally likely, then\n",
    "\n",
    "$$ \\mathbb{P}(A) = \\frac{|A|}{|\\Omega|}, $$\n",
    "\n",
    "which is called the **uniform probability distribution**. \n",
    "\n",
    "To compute probabilities, we need to count the number of points in an event $A$. Methods for counting points are called combinatorial methods. Given $n$ objects, the number of ways of ordering these objects is $n! = n(n - 1)(n - 2) \\cdots 3 \\cdot 2 \\cdot 1$. For convenience, we define $0! = 1$. We also define\n",
    "\n",
    "$$ C(n, k) = {}^nC_k = {}_nC_k = \\binom{n}{k} = \\frac{n!}{k!(n - k)!}, $$\n",
    "\n",
    "read \"$n$ choose $k$\", which is the number of distinct ways of choosing $k$ objects from $n$. For example, if we have a class of $20$ people and we want to select a committee of $3$ students, then there are\n",
    "\n",
    "$$ \\binom{20}{3} = \\frac{20!}{3!(20 - 3)!} = 1140. $$"
   ]
  },
  {
   "cell_type": "markdown",
   "metadata": {},
   "source": [
    "### 2.3 Independent Events\n",
    "\n",
    "$A$ and $B$ are independent if and only if \n",
    "\n",
    "$$ \\mathbb{P}(A \\cap B) = \\mathbb{P}(A) \\, \\mathbb{P}(B). $$\n",
    "\n",
    "Independence can arise in two distinct ways. Sometimes, we explicitly assume that two events are independent. For example, in tossing a coin twice, we usually assume the tosses are independent which reflects the fact that the coin has no memory of the first toss. In other instances, we derive independence by verifying that $\\mathbb{P}(A \\cap B) = \\mathbb{P}(A) \\, \\mathbb{P}(B)$ holds."
   ]
  },
  {
   "cell_type": "markdown",
   "metadata": {},
   "source": [
    "### 2.4 Conditional Probability\n",
    "\n",
    "If $\\mathbb{P}(B) > 0$ then the conditional probability of $A$ given $B$ is\n",
    "\n",
    "$$ \\mathbb{P}(A \\mid B) = \\frac{\\mathbb{P}(A \\cap B)}{\\mathbb{P}(B)}. $$\n",
    "\n",
    "Think of $\\mathbb{P}(A \\mid B)$ as the fraction of times $A$ occurs among those in which $B$ occurs. In general, $\\mathbb{P}(A \\mid B) \\neq \\mathbb{P}(B \\mid A)$. \n",
    "\n",
    "$A$ and $B$ are independent if and only if \n",
    "\n",
    "$$ \\mathbb{P}(A \\mid B) = \\mathbb{P}(A). $$"
   ]
  },
  {
   "cell_type": "markdown",
   "metadata": {},
   "source": [
    "### 2.5 Bayes' Theorem\n",
    "\n",
    "Bayes' theorem describes the probability of an event, based on prior knowledge of conditions that might be related to the event. It is defined by\n",
    "\n",
    "$$ \\mathbb{P}(A \\mid B) = \\frac{\\mathbb{P}(B \\mid A) \\, \\mathbb{P}(A)}{\\mathbb{P}(B)}. $$"
   ]
  }
 ],
 "metadata": {
  "kernelspec": {
   "display_name": "py310",
   "language": "python",
   "name": "python3"
  },
  "language_info": {
   "codemirror_mode": {
    "name": "ipython",
    "version": 3
   },
   "file_extension": ".py",
   "mimetype": "text/x-python",
   "name": "python",
   "nbconvert_exporter": "python",
   "pygments_lexer": "ipython3",
   "version": "3.10.13"
  }
 },
 "nbformat": 4,
 "nbformat_minor": 2
}
