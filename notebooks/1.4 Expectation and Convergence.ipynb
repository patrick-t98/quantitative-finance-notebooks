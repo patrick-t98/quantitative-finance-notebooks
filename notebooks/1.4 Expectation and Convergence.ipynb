{
 "cells": [
  {
   "cell_type": "markdown",
   "metadata": {},
   "source": [
    "## 0. Introduction\n",
    "\n",
    "The purpose of this notebook is to explore expectation with reference to chapter 3 from *All of Statistics* (Wasserman, 2004)."
   ]
  },
  {
   "cell_type": "markdown",
   "metadata": {},
   "source": [
    "## 1. Expectation of a Random Variable\n",
    "\n",
    "The **expected value**, or **mean**, or **first moment**, of $X$ is defined to be\n",
    "\n",
    "$$\n",
    "\\mathbb{E}[X] = \\int x \\, dF(x) = \n",
    "\\begin{cases}\n",
    "\\sum_x x f(x), & \\text{if } X \\text{ is discrete} \\\\\n",
    "\\int x f(x) \\, dx, & \\text{if } X \\text{ is continuous}\n",
    "\\end{cases}\n",
    "$$\n",
    "\n",
    "assuming that the sum (or integral) is well defined. We use the following notation to denote the expected value of $X$:\n",
    "\n",
    "$$ \\mathbb{E}[X] = \\mathbb{E}X = \\int x \\, dF(x) = \\mu = \\mu_X. $$\n",
    "\n",
    "The expectation is a one-number summary of the distribution. Think of $\\mathbb{E}[X]$ as the average $\\sum_{i=1}^n X_i/n$ of a large number of IID draws $X_1, \\ldots, X_n$. The fact that $\\mathbb{E}[X] \\approx \\sum_{i=1}^n X_i/n$ is actually more than a heuristic; it is a theorem called the **law of large numbers**."
   ]
  },
  {
   "cell_type": "code",
   "execution_count": 1,
   "metadata": {},
   "outputs": [],
   "source": [
    "import numpy as np\n",
    "import scipy.stats as ss"
   ]
  },
  {
   "cell_type": "code",
   "execution_count": 2,
   "metadata": {},
   "outputs": [],
   "source": [
    "# Generate random variable\n",
    "n = 1000\n",
    "x = ss.norm.rvs(size=n, random_state=42)"
   ]
  },
  {
   "cell_type": "code",
   "execution_count": 3,
   "metadata": {},
   "outputs": [
    {
     "name": "stdout",
     "output_type": "stream",
     "text": [
      "Mean of x (manual calculation): 0.019\n",
      "Mean of x (using numpy): 0.019\n"
     ]
    }
   ],
   "source": [
    "# Calculate mean\n",
    "mu_x = np.sum(x) / n\n",
    "\n",
    "# Print results\n",
    "print(f\"Mean of x (manual calculation): {mu_x:.3f}\")\n",
    "print(f\"Mean of x (using numpy): {np.mean(x):.3f}\")"
   ]
  },
  {
   "cell_type": "markdown",
   "metadata": {},
   "source": [
    "## 2. Variance and Covariance\n",
    "\n",
    "The variance measures the \"spread\" of a distribution. Let $X$ be a random variable with mean $\\mu$. The **variance** of $X$ - denoted by $\\sigma^2$ or $\\sigma_X^2$ or $\\mathbb{V}(X)$ or $\\mathbb{V}X$ - is defined by\n",
    "\n",
    "$$ \\sigma^2 = \\mathbb{E}[(X - \\mu)^2] = \\int (x - \\mu)^2 \\, dF(x) $$\n",
    "\n",
    "assuming this expectation exists. The **standard deviation** is $\\text{sd}(X) = \\sqrt{\\mathbb{V}(X)}$ and is also denoted by $\\sigma$ and $\\sigma_X$.\n",
    "\n",
    "Let $X$ and $Y$ be random variables with means $\\mu_X$ and $\\mu_Y$ and standard deviations $\\sigma_X$ and $\\sigma_Y$. Define the **covariance** between $X$ and $Y$ by\n",
    "\n",
    "$$ \\text{Cov}(X, Y) = \\mathbb{E}\\left[(X - \\mu_X)(Y - \\mu_Y)\\right] $$\n",
    "\n",
    "and the **correlation** by \n",
    "\n",
    "$$ \\rho = \\rho_{X,Y} = \\rho(X, Y) = \\frac{\\text{Cov}(X, Y)}{\\sigma_X \\sigma_Y}. $$\n",
    "\n"
   ]
  },
  {
   "cell_type": "code",
   "execution_count": 4,
   "metadata": {},
   "outputs": [
    {
     "name": "stdout",
     "output_type": "stream",
     "text": [
      "Variance of x (manual calculation): 0.958\n",
      "Variance of x (using numpy): 0.958\n"
     ]
    }
   ],
   "source": [
    "# Calculate variance\n",
    "var_x = np.sum((x - mu_x)**2) / n\n",
    "\n",
    "# Print results\n",
    "print(f\"Variance of x (manual calculation): {var_x:.3f}\")\n",
    "print(f\"Variance of x (using numpy): {np.var(x, ddof=0):.3f}\")"
   ]
  },
  {
   "cell_type": "code",
   "execution_count": 5,
   "metadata": {},
   "outputs": [
    {
     "name": "stdout",
     "output_type": "stream",
     "text": [
      "Standard deviation of x (manual calculation): 0.979\n",
      "Standard deviation of x (using numpy): 0.979\n"
     ]
    }
   ],
   "source": [
    "# Calculate standard deviation\n",
    "sd_x = np.sqrt(var_x)\n",
    "\n",
    "# Print results\n",
    "print(f\"Standard deviation of x (manual calculation): {sd_x:.3f}\")\n",
    "print(f\"Standard deviation of x (using numpy): {np.std(x, ddof=0):.3f}\")"
   ]
  },
  {
   "cell_type": "code",
   "execution_count": 6,
   "metadata": {},
   "outputs": [
    {
     "name": "stdout",
     "output_type": "stream",
     "text": [
      "Mean of y: -0.009\n",
      "Variance of y: 0.946\n",
      "Standard deviation of y: 0.973\n"
     ]
    }
   ],
   "source": [
    "# Generate a second random variable\n",
    "y = 0.8 * x + ss.norm.rvs(scale=0.6, size=n, random_state=34)\n",
    "mu_y = np.sum(y) / n\n",
    "var_y = np.sum((y - mu_y)**2) / n\n",
    "sd_y = np.sqrt(var_y)\n",
    "\n",
    "# Print results\n",
    "print(f\"Mean of y: {mu_y:.3f}\")\n",
    "print(f\"Variance of y: {var_y:.3f}\")\n",
    "print(f\"Standard deviation of y: {sd_y:.3f}\")"
   ]
  },
  {
   "cell_type": "code",
   "execution_count": 7,
   "metadata": {},
   "outputs": [
    {
     "name": "stdout",
     "output_type": "stream",
     "text": [
      "Covariance of x and y (manual calculation): 0.764\n",
      "Covariance of x and y (using numpy): 0.764\n"
     ]
    }
   ],
   "source": [
    "# Calculate covariance\n",
    "cov_xy = np.sum((x - mu_x) * (y - mu_y)) / n\n",
    "\n",
    "# Print results\n",
    "print(f\"Covariance of x and y (manual calculation): {cov_xy:.3f}\")\n",
    "print(f\"Covariance of x and y (using numpy): {np.cov(x, y, ddof=0)[0,1]:.3f}\")"
   ]
  },
  {
   "cell_type": "code",
   "execution_count": 8,
   "metadata": {},
   "outputs": [
    {
     "name": "stdout",
     "output_type": "stream",
     "text": [
      "Covariance matrix: \n",
      "[[0.958 0.764]\n",
      " [0.764 0.946]]\n"
     ]
    }
   ],
   "source": [
    "# Covariance matrix\n",
    "cov_matrix = np.cov(x, y, ddof=0)\n",
    "\n",
    "# Print results\n",
    "print(f\"Covariance matrix: \\n{np.round(cov_matrix, 3)}\")"
   ]
  },
  {
   "cell_type": "code",
   "execution_count": 9,
   "metadata": {},
   "outputs": [
    {
     "name": "stdout",
     "output_type": "stream",
     "text": [
      "Correlation of x and y (manual calculation): 0.803\n",
      "Correlation of x and y (using numpy): 0.803\n"
     ]
    }
   ],
   "source": [
    "# Calculate correlation\n",
    "corr_xy = cov_xy / (sd_x * sd_y)\n",
    "\n",
    "# Print results\n",
    "print(f\"Correlation of x and y (manual calculation): {corr_xy:.3f}\")\n",
    "print(f\"Correlation of x and y (using numpy): {np.corrcoef(x, y)[0,1]:.3f}\")"
   ]
  },
  {
   "cell_type": "code",
   "execution_count": 10,
   "metadata": {},
   "outputs": [
    {
     "name": "stdout",
     "output_type": "stream",
     "text": [
      "Correlation matrix: \n",
      "[[1.    0.803]\n",
      " [0.803 1.   ]]\n"
     ]
    }
   ],
   "source": [
    "# Correlation matrix\n",
    "corr_matrix = np.corrcoef(x, y)\n",
    "\n",
    "# Print results\n",
    "print(f\"Correlation matrix: \\n{np.round(corr_matrix, 3)}\")"
   ]
  },
  {
   "cell_type": "markdown",
   "metadata": {},
   "source": [
    "## 3. Convergence of Random Variables\n",
    "\n",
    "The to main types of convergence are defined as follows. \n",
    "\n",
    "Let $X_1, X_2, \\ldots$ be a sequence of random variables and let $X$ be another random variable. Let $F_n$ denote the CDF of $X_n$ and let $F$ denote the CDF of $X$.\n",
    "\n",
    "1. $X_n$ **converges to $X$ in probability**, written $X_n \\xrightarrow{P} X$, if, for every $\\epsilon > 0$,\n",
    "   $$ \\mathbb{P}(|X_n - X| > \\epsilon) \\to 0 $$\n",
    "   as n $\\to \\infty$.\n",
    "   \n",
    "2. $X_n$ **converges to $X$ in distribution**, written $X_n \\xrightarrow{d} X$, if\n",
    "   $$ \\lim_{n \\to \\infty} F_n(t) = F(t) $$\n",
    "   at all $t$ for which $F$ is continuous."
   ]
  }
 ],
 "metadata": {
  "kernelspec": {
   "display_name": "py310",
   "language": "python",
   "name": "python3"
  },
  "language_info": {
   "codemirror_mode": {
    "name": "ipython",
    "version": 3
   },
   "file_extension": ".py",
   "mimetype": "text/x-python",
   "name": "python",
   "nbconvert_exporter": "python",
   "pygments_lexer": "ipython3",
   "version": "3.10.13"
  }
 },
 "nbformat": 4,
 "nbformat_minor": 2
}
